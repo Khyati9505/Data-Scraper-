{
 "cells": [
  {
   "cell_type": "code",
   "execution_count": 1,
   "metadata": {},
   "outputs": [],
   "source": [
    "import pip\n",
    "import pandas as pd"
   ]
  },
  {
   "cell_type": "code",
   "execution_count": 2,
   "metadata": {},
   "outputs": [],
   "source": [
    "from selenium import webdriver\n",
    "from selenium.webdriver.chrome.service import Service\n",
    "from selenium.webdriver.chrome.options import Options\n",
    "from selenium.webdriver.support.ui import WebDriverWait\n",
    "from selenium.webdriver.support import expected_conditions as EC\n",
    "from selenium.webdriver.common.by import By\n",
    "from bs4 import BeautifulSoup\n",
    "import time"
   ]
  },
  {
   "cell_type": "code",
   "execution_count": 3,
   "metadata": {},
   "outputs": [],
   "source": [
    "service = Service(executable_path=\"C:/Users/khyat/Downloads/chromedriver-win64/chromedriver-win64/chromedriver.exe\")\n",
    "options = webdriver.ChromeOptions()\n",
    "options.add_argument('--start-maximized')\n",
    "driver = webdriver.Chrome(service=service, options=options)"
   ]
  },
  {
   "cell_type": "code",
   "execution_count": null,
   "metadata": {},
   "outputs": [],
   "source": [
    "url = 'https://linkedin.com/login'\n",
    "driver.get(url)\n",
    "EMAIL='email'\n",
    "PASS='pass'"
   ]
  },
  {
   "cell_type": "code",
   "execution_count": null,
   "metadata": {},
   "outputs": [],
   "source": [
    "username = driver.find_element(By.ID, 'username')\n",
    "username.send_keys(EMAIL)\n",
    "password = driver.find_element(By.ID, 'password')\n",
    "password.send_keys(PASS)\n",
    "driver.find_element(By.XPATH, \"//button[@type='submit']\").click()"
   ]
  },
  {
   "cell_type": "code",
   "execution_count": 6,
   "metadata": {},
   "outputs": [],
   "source": [
    "query = 'consultant'\n",
    "location = 'India'"
   ]
  },
  {
   "cell_type": "code",
   "execution_count": 7,
   "metadata": {},
   "outputs": [],
   "source": [
    "jobs_url = f'https://www.linkedin.com/jobs/search/?keywords={query}&location={location}&start=0'"
   ]
  },
  {
   "cell_type": "code",
   "execution_count": 8,
   "metadata": {},
   "outputs": [],
   "source": [
    "driver.get(jobs_url)\n",
    "\n",
    "# # username = driver.find_element(By.ID, 'username')\n",
    "# # username.send_keys('adityatamras@gmail.com')\n",
    "# # password = driver.find_element(By.ID, 'password')\n",
    "# # password.send_keys('Aditya29!')\n",
    "# # driver.find_element(By.XPATH, \"//button[@type='submit']\").click()"
   ]
  },
  {
   "cell_type": "code",
   "execution_count": 9,
   "metadata": {},
   "outputs": [],
   "source": [
    "soup = BeautifulSoup(driver.page_source, 'html.parser')"
   ]
  },
  {
   "cell_type": "code",
   "execution_count": null,
   "metadata": {},
   "outputs": [],
   "source": [
    "# job_names = []\n",
    "# company_names = []\n",
    "# job_locations = []\n",
    "# job_hyperlinks = []\n"
   ]
  },
  {
   "cell_type": "code",
   "execution_count": null,
   "metadata": {},
   "outputs": [
    {
     "name": "stdout",
     "output_type": "stream",
     "text": [
      "7\n",
      "['\\nConsultant, Information & Communication TechnologiesConsultant, Information & Communication Technologies\\n', '\\nAIML Consultant ', '\\nBusiness Transformation Consultant-Data Analytics ', '\\nEducational Consultant, Undergrad and MBA assistanceEducational Consultant, Undergrad and MBA assistance\\n', '\\nConsultant - SaT - CHS - SAT - EYP - STRATEGY - Mumbai ', '\\nData Consultant-Data Governance ', '\\nSolutions Consultant ', '\\nConsultant, Information & Communication TechnologiesConsultant, Information & Communication Technologies\\n', '\\nAIML Consultant ', '\\nBusiness Transformation Consultant-Data Analytics ', '\\nEducational Consultant, Undergrad and MBA assistanceEducational Consultant, Undergrad and MBA assistance\\n', '\\nConsultant - SaT - CHS - SAT - EYP - STRATEGY - Mumbai ', '\\nData Consultant-Data Governance ', '\\nSolutions Consultant ', '\\nConsultant, Information & Communication TechnologiesConsultant, Information & Communication Technologies\\n', '\\nAIML Consultant ', '\\nBusiness Transformation Consultant-Data Analytics ', '\\nEducational Consultant, Undergrad and MBA assistanceEducational Consultant, Undergrad and MBA assistance\\n', '\\nConsultant - SaT - CHS - SAT - EYP - STRATEGY - Mumbai ', '\\nData Consultant-Data Governance ', '\\nSolutions Consultant ', '\\nConsultant, Information & Communication TechnologiesConsultant, Information & Communication Technologies\\n', '\\nAIML Consultant ', '\\nBusiness Transformation Consultant-Data Analytics ', '\\nEducational Consultant, Undergrad and MBA assistanceEducational Consultant, Undergrad and MBA assistance\\n', '\\nConsultant - SaT - CHS - SAT - EYP - STRATEGY - Mumbai ', '\\nData Consultant-Data Governance ', '\\nSolutions Consultant '] ['Frost & Sullivan', 'Virtusa', 'IBM', 'Seven Hats Consulting', 'EY', 'IBM', 'Adobe', 'Frost & Sullivan', 'Virtusa', 'IBM', 'Seven Hats Consulting', 'EY', 'IBM', 'Adobe'] ['Mumbai, Maharashtra, India (Remote)', 'Andhra Pradesh, India (Hybrid)', 'Pune, Maharashtra, India (Hybrid)', 'Mumbai, Maharashtra, India (On-site)', 'Mumbai, Maharashtra, India (On-site)', 'Pune, Maharashtra, India (Hybrid)', 'Mumbai, Maharashtra, India', 'Mumbai, Maharashtra, India (Remote)', 'Andhra Pradesh, India (Hybrid)', 'Pune, Maharashtra, India (Hybrid)', 'Mumbai, Maharashtra, India (On-site)', 'Mumbai, Maharashtra, India (On-site)', 'Pune, Maharashtra, India (Hybrid)', 'Mumbai, Maharashtra, India'] ['/jobs/view/4133146576/?eBP=CwEAAAGVDVLm9gi18qKdere6e-kh0_PyRVuo4JVNO-S3rAqfHwH92CZA4nfN_gjpoAYov2QkVXPvA5OeFDCAn5NkVo28YHY8dwu2UNcaqMTCWyYkQh4i-VF9gcyyKVlogWedV89kzoFoxLMHNxAuQoWaFv0IGtOYSn0YnDWh7vPTktmuoT5MduN1-QOd71dFGmZpVgtXCLbrZJ8ctmuRs7uKtTWRi1k-Vxc8LywCNrlOdeIXEL3dGPmcX3eb1QJDz3BK3cC2h0HYnBUIsW9uT2-84904AKCUNpvNBDrbcsn2jHsHdGS-VUgUz4DihzsViO9PHsBkYNqQilFMHFiTM_cHA-IlSqzWU-xX6_3dHCILeShiJyw0tF9xZLREcFzfZnRTjFfWrMUKdvouRYVfukuayuXjgShUt1PVniviFLB3T-sJsTfjntC5LMmdikFabQfGJ4utHSz-0rLm1bXlYyZN40GCqASlgquvHVWWiPx0OVFUqFZnFwvHpqNS5BOpJsBYWryDvWqYklQ&refId=z0HSXyp%2FScCOXVUMD%2B9z2w%3D%3D&trackingId=D1S6JbBVU5LVDjYQvE8EJw%3D%3D&trk=flagship3_search_srp_jobs', '/jobs/view/4146770095/?eBP=CwEAAAGVDVLm9iWDUebFoSS0Y1rxSM6roAWYHxGIkG9YZ4_uRPlZTVGu2NB9fPg3J00CPUJwhCbCITH82IItyiX_iSsyuPF4QaRmGNI6HUix6NHjEGjK3qmAzFts3gtZJPLs2bTSFFP8B7qAU58WhKZikMQd9FHMcsLk91HgHtoE3pIOFxM8LO5_A2ILmv_qj7n0VfKcrhq5TPUXebhogvJvP5Rf9MYxgavHSvHgMsV84G6rl4O2S0uTAI_JtKpGkw4S6GJXny55f3VPVYtfv1zp_5_CHRa97aef15j5P_NPRy6ocAk7LHNggpuoiDJPqdUg5PEigSikfJ0SKmx5mOZTrtHrbWaOg4Hkh0DKbTB2n51VQgbpnYD0fNHeQzKYY_UfmUhE8IoYsWwWLoup4SGpgy4UYsnFFXoZ3Jd29_3yKr9M4GIVm3mzHV2fQGlvkgQt9cGPxityIKK3a5gqPTui6j-n3gnv2BnHQVxpvGDYfUV4aah5D6YqECZwzASGoe551x-6_XX_DZo&refId=z0HSXyp%2FScCOXVUMD%2B9z2w%3D%3D&trackingId=3QhH4KDmYV4sMwk9DqPezw%3D%3D&trk=flagship3_search_srp_jobs', '/jobs/view/4150637293/?eBP=CwEAAAGVDVLm9iNR0OaW5zudauKXOuN0ywlkst8Q7dEbYO74hmap6IhSwwjceEF_aqxp4EJRZ2Jq9wOUwFlM9Kp9s8nypMSNyEcUtQNowQ8U0Eyuw5wY2QU98ZEUFdAEcvsReZRZsNMHPWPwH9GOMJmZV1dnD6u7vc8dSvc2ySOAPSZpJsHyLIo7rCkFYmrLqusx7uvDnl0mSpCg1YZNfLrAOBl6NNLVum_rMszl_Fcloa-4DIM2pyOFMq2d2sa7X3EbnWf1D0ghOWSVYvuV_VOkoMW8ISIlPBqtcxP9bxUm_yn3ARuQarpJBbNK9IhpI8gsMjMuYOtC1QfcLHiPduHdGfBYt_Z1oBtiLmuVOiAxQtqXTBWdL539Cg6HS2YJHOyxMJd5ojSCLFDLkmzLrusomEqI5tT-kKjHiNRrzampfRIgp7dUhsB82jNDUSYo1TU7f-ahgQf-XKva6OuOXOtqQzYTTJRa7xa6bYadC41ALXPr7ZEAufJNeCP5S0Lq3cGZtI60abLl-RvHGKEJ1Lw&refId=z0HSXyp%2FScCOXVUMD%2B9z2w%3D%3D&trackingId=mQT0Zsd%2Fzgj3QuteYlwugA%3D%3D&trk=flagship3_search_srp_jobs', '/jobs/view/4129896458/?eBP=CwEAAAGVDVLm9iuEpFj3LI833KYaRDLeysYzOdwDzqzXkutUfZmND3maRhudfI8Jnrcjsk5yGAGvCxc43j_XV5AOynOOiJ5lyaWfwfQq_NpwYRk6AvtLjPJcRMZUfeazzXBtqA44P6SMBOZaek0mXH12FxwXBHICnpsasn1SVWn1MOFchIrQmydeu9jtCIuN_6SvAK-geTZ7YdANc_vuuHXn34gENU-QX6OfA1zZLjUVNEpzhvOeN6Tg6gwFnmy0BNeqZs2eoQej19IqnzoNH_8WDcsZM6fdukgdRf6i4mI9oJWJ00u3MzJfJG7qhSQX-SC3V_VyHmAfUoIaGfBa98tm_WxnsdCrDVdgBMCCBAeRr6ZuPhiUv9YyW3esyLaTDgJI4ydTNkGfPO4a86SBOfn03XgqPo9pjaZc1GQh3Qw9jBSpNEp_A6s5odXigQta7B_iWfAW3dwBwCOGhjvySjazx6r4ZMoYi6qMAD-xp8Mgk9-W4Y3d1ChtJ5Cv1TX57DsCDwM8EB0HrkaAVYEdP1zjJtqiWsmz1vwJugcYhQ&refId=z0HSXyp%2FScCOXVUMD%2B9z2w%3D%3D&trackingId=mSoh6N%2FZLXxT05rzPGKDZg%3D%3D&trk=flagship3_search_srp_jobs', '/jobs/view/4149726249/?eBP=CwEAAAGVDVLm9tBKJa16XKTro1gtxNJIArKmICf7oQJLnnr-LujvEGALQpQFSWYGdj65cpF5Idy_ryr95gjJbH-liftJXMPiXVUKW6JVHoA8n2VgPa0eSfBC7BDV1f7OOwS0qqnp8VitmgVPUhFdNrFhIiQWqGTqJUvCbocW4m5rCZ52W6yEPewDV223AKHXIWoCPBVRpcgHbHXuj8aY-KgwUt7hOQnwuG5sj6BJsTNBHj9KxunSjW1d8RUIs2ivii6AHncmfIq4WF8bCVCVJ5wdaK2ERmkt_uYL7Mp32UT_lLctm9jilMK_DR6x-EW3uel10YvsndaX8Qvy5R1Up-mFsDZ2JLy0hHVDAK7XbAVKgMvSq0bNvtHoqM4JXVhJwERS45tylsVRTryOIRewc15OvEsR64i1_26qLpIWeptq0_bp0W27yIUsrhTwW13tDiQqHVz3RiG7qQYMZWljq5OmTjtx3w4Vk2kk1SPWz8xE&refId=z0HSXyp%2FScCOXVUMD%2B9z2w%3D%3D&trackingId=jXKlMF3EBoF8axgGNMKZmw%3D%3D&trk=flagship3_search_srp_jobs', '/jobs/view/4150635496/?eBP=CwEAAAGVDVLm9tT9f4jamTlb7ZX6aNR8HZfiFbhunY9dYt9Sz4Xg71H2akSEo3XwgLbL0QL-hyV6UhEI95WE7yA1tTNrBWJ6O2Ari0oGofhHYBvefUViuAKnvHwaUilqJVp-pa2HI2rORiInpbzbUZD5RZWSYYJaNJROZaB-EY86oOU24F-SHVfF1k6LrkLC4r8i5EMAZZXPF0b2NCz9YNCZJUJrzM6BLkttS8rotWrK8QfpOgE3La1JQbi3vhQbLlKCba2kPpalUEJjCtrwIMvl8EOpUfmX1YRiDHjj2pTmNyBkRboM-H6HDn_DDztoFzLytsXqjzzDL9bxZiU_L3nIAr4fW3_IpbHDjNJsF_vresypWUdEtGuS6Y1dNz2Y54G_m3Qn3q2zgQwDjahbJySJl5DOPUWYdrEU3KWgINDvCr3mO6xe10JWdjPZoqqIh-1pKhe1aUgGSjGAYQngEIqMb4slgZUL4KPusQrDiiXQOyhQ2T-AzC3OadkeVKwtErZQxYcWCUEbZN_9gpFv1OI&refId=z0HSXyp%2FScCOXVUMD%2B9z2w%3D%3D&trackingId=wGYy2n%2BE%2FugqIPCkqk3jNA%3D%3D&trk=flagship3_search_srp_jobs', '/jobs/view/4138138187/?eBP=CwEAAAGVDVLm9hKlZELiyouSMK05Hg0Q6Nwp_QUX-49085Z8nI22qL6PRxO9ZBBTJIv3RVl1CVxElpk-x1sPQQBJlgMm28PabAAL3Z83i_BprqksEr-5TDrQAI4P33vaeIZlgY1XAcfEM45DgQM37lmW9no6_PLc5EZ0PGpQNGa4aPtPECG9iv2jOKnXSk_J-RoCZ1ftYzaIT0jGUoGS39gTHfCcJxLrMKBm1OPHHufpGLfQNO_Gb0IIvTVAPpFmwp34XHM7AH0oFA7nFKkDHjkkoEP8tKCq3sBNkaVus35iCFKsz9jiaLnDX6Td_7jUm2I4Xfk0gMfIxNY4rs86SaBO0spBm3uQouJ8SK7-mSj3Ccb6-AtFLjMkHngkwbFaTcA2wQoJCfMnIch7AAE7eNRUHvE10X3hmgBAzZ9ZNq7WerYZLDGO3BwVlfBxiLvQ-MzWz22u2xZ266UDX9j7wPyh18_Cr1QWdyKXyE-i19zd_5S_ttj-ZSPB__IUHen_45tL8_vDh66gKkTdl1I-&refId=z0HSXyp%2FScCOXVUMD%2B9z2w%3D%3D&trackingId=n%2FQ%2FyvALQwlh21EXvY81Hg%3D%3D&trk=flagship3_search_srp_jobs', '/jobs/view/4133146576/?eBP=CwEAAAGVDVLm9gi18qKdere6e-kh0_PyRVuo4JVNO-S3rAqfHwH92CZA4nfN_gjpoAYov2QkVXPvA5OeFDCAn5NkVo28YHY8dwu2UNcaqMTCWyYkQh4i-VF9gcyyKVlogWedV89kzoFoxLMHNxAuQoWaFv0IGtOYSn0YnDWh7vPTktmuoT5MduN1-QOd71dFGmZpVgtXCLbrZJ8ctmuRs7uKtTWRi1k-Vxc8LywCNrlOdeIXEL3dGPmcX3eb1QJDz3BK3cC2h0HYnBUIsW9uT2-84904AKCUNpvNBDrbcsn2jHsHdGS-VUgUz4DihzsViO9PHsBkYNqQilFMHFiTM_cHA-IlSqzWU-xX6_3dHCILeShiJyw0tF9xZLREcFzfZnRTjFfWrMUKdvouRYVfukuayuXjgShUt1PVniviFLB3T-sJsTfjntC5LMmdikFabQfGJ4utHSz-0rLm1bXlYyZN40GCqASlgquvHVWWiPx0OVFUqFZnFwvHpqNS5BOpJsBYWryDvWqYklQ&refId=z0HSXyp%2FScCOXVUMD%2B9z2w%3D%3D&trackingId=D1S6JbBVU5LVDjYQvE8EJw%3D%3D&trk=flagship3_search_srp_jobs', '/jobs/view/4146770095/?eBP=CwEAAAGVDVLm9iWDUebFoSS0Y1rxSM6roAWYHxGIkG9YZ4_uRPlZTVGu2NB9fPg3J00CPUJwhCbCITH82IItyiX_iSsyuPF4QaRmGNI6HUix6NHjEGjK3qmAzFts3gtZJPLs2bTSFFP8B7qAU58WhKZikMQd9FHMcsLk91HgHtoE3pIOFxM8LO5_A2ILmv_qj7n0VfKcrhq5TPUXebhogvJvP5Rf9MYxgavHSvHgMsV84G6rl4O2S0uTAI_JtKpGkw4S6GJXny55f3VPVYtfv1zp_5_CHRa97aef15j5P_NPRy6ocAk7LHNggpuoiDJPqdUg5PEigSikfJ0SKmx5mOZTrtHrbWaOg4Hkh0DKbTB2n51VQgbpnYD0fNHeQzKYY_UfmUhE8IoYsWwWLoup4SGpgy4UYsnFFXoZ3Jd29_3yKr9M4GIVm3mzHV2fQGlvkgQt9cGPxityIKK3a5gqPTui6j-n3gnv2BnHQVxpvGDYfUV4aah5D6YqECZwzASGoe551x-6_XX_DZo&refId=z0HSXyp%2FScCOXVUMD%2B9z2w%3D%3D&trackingId=3QhH4KDmYV4sMwk9DqPezw%3D%3D&trk=flagship3_search_srp_jobs', '/jobs/view/4150637293/?eBP=CwEAAAGVDVLm9iNR0OaW5zudauKXOuN0ywlkst8Q7dEbYO74hmap6IhSwwjceEF_aqxp4EJRZ2Jq9wOUwFlM9Kp9s8nypMSNyEcUtQNowQ8U0Eyuw5wY2QU98ZEUFdAEcvsReZRZsNMHPWPwH9GOMJmZV1dnD6u7vc8dSvc2ySOAPSZpJsHyLIo7rCkFYmrLqusx7uvDnl0mSpCg1YZNfLrAOBl6NNLVum_rMszl_Fcloa-4DIM2pyOFMq2d2sa7X3EbnWf1D0ghOWSVYvuV_VOkoMW8ISIlPBqtcxP9bxUm_yn3ARuQarpJBbNK9IhpI8gsMjMuYOtC1QfcLHiPduHdGfBYt_Z1oBtiLmuVOiAxQtqXTBWdL539Cg6HS2YJHOyxMJd5ojSCLFDLkmzLrusomEqI5tT-kKjHiNRrzampfRIgp7dUhsB82jNDUSYo1TU7f-ahgQf-XKva6OuOXOtqQzYTTJRa7xa6bYadC41ALXPr7ZEAufJNeCP5S0Lq3cGZtI60abLl-RvHGKEJ1Lw&refId=z0HSXyp%2FScCOXVUMD%2B9z2w%3D%3D&trackingId=mQT0Zsd%2Fzgj3QuteYlwugA%3D%3D&trk=flagship3_search_srp_jobs', '/jobs/view/4129896458/?eBP=CwEAAAGVDVLm9iuEpFj3LI833KYaRDLeysYzOdwDzqzXkutUfZmND3maRhudfI8Jnrcjsk5yGAGvCxc43j_XV5AOynOOiJ5lyaWfwfQq_NpwYRk6AvtLjPJcRMZUfeazzXBtqA44P6SMBOZaek0mXH12FxwXBHICnpsasn1SVWn1MOFchIrQmydeu9jtCIuN_6SvAK-geTZ7YdANc_vuuHXn34gENU-QX6OfA1zZLjUVNEpzhvOeN6Tg6gwFnmy0BNeqZs2eoQej19IqnzoNH_8WDcsZM6fdukgdRf6i4mI9oJWJ00u3MzJfJG7qhSQX-SC3V_VyHmAfUoIaGfBa98tm_WxnsdCrDVdgBMCCBAeRr6ZuPhiUv9YyW3esyLaTDgJI4ydTNkGfPO4a86SBOfn03XgqPo9pjaZc1GQh3Qw9jBSpNEp_A6s5odXigQta7B_iWfAW3dwBwCOGhjvySjazx6r4ZMoYi6qMAD-xp8Mgk9-W4Y3d1ChtJ5Cv1TX57DsCDwM8EB0HrkaAVYEdP1zjJtqiWsmz1vwJugcYhQ&refId=z0HSXyp%2FScCOXVUMD%2B9z2w%3D%3D&trackingId=mSoh6N%2FZLXxT05rzPGKDZg%3D%3D&trk=flagship3_search_srp_jobs', '/jobs/view/4149726249/?eBP=CwEAAAGVDVLm9tBKJa16XKTro1gtxNJIArKmICf7oQJLnnr-LujvEGALQpQFSWYGdj65cpF5Idy_ryr95gjJbH-liftJXMPiXVUKW6JVHoA8n2VgPa0eSfBC7BDV1f7OOwS0qqnp8VitmgVPUhFdNrFhIiQWqGTqJUvCbocW4m5rCZ52W6yEPewDV223AKHXIWoCPBVRpcgHbHXuj8aY-KgwUt7hOQnwuG5sj6BJsTNBHj9KxunSjW1d8RUIs2ivii6AHncmfIq4WF8bCVCVJ5wdaK2ERmkt_uYL7Mp32UT_lLctm9jilMK_DR6x-EW3uel10YvsndaX8Qvy5R1Up-mFsDZ2JLy0hHVDAK7XbAVKgMvSq0bNvtHoqM4JXVhJwERS45tylsVRTryOIRewc15OvEsR64i1_26qLpIWeptq0_bp0W27yIUsrhTwW13tDiQqHVz3RiG7qQYMZWljq5OmTjtx3w4Vk2kk1SPWz8xE&refId=z0HSXyp%2FScCOXVUMD%2B9z2w%3D%3D&trackingId=jXKlMF3EBoF8axgGNMKZmw%3D%3D&trk=flagship3_search_srp_jobs', '/jobs/view/4150635496/?eBP=CwEAAAGVDVLm9tT9f4jamTlb7ZX6aNR8HZfiFbhunY9dYt9Sz4Xg71H2akSEo3XwgLbL0QL-hyV6UhEI95WE7yA1tTNrBWJ6O2Ari0oGofhHYBvefUViuAKnvHwaUilqJVp-pa2HI2rORiInpbzbUZD5RZWSYYJaNJROZaB-EY86oOU24F-SHVfF1k6LrkLC4r8i5EMAZZXPF0b2NCz9YNCZJUJrzM6BLkttS8rotWrK8QfpOgE3La1JQbi3vhQbLlKCba2kPpalUEJjCtrwIMvl8EOpUfmX1YRiDHjj2pTmNyBkRboM-H6HDn_DDztoFzLytsXqjzzDL9bxZiU_L3nIAr4fW3_IpbHDjNJsF_vresypWUdEtGuS6Y1dNz2Y54G_m3Qn3q2zgQwDjahbJySJl5DOPUWYdrEU3KWgINDvCr3mO6xe10JWdjPZoqqIh-1pKhe1aUgGSjGAYQngEIqMb4slgZUL4KPusQrDiiXQOyhQ2T-AzC3OadkeVKwtErZQxYcWCUEbZN_9gpFv1OI&refId=z0HSXyp%2FScCOXVUMD%2B9z2w%3D%3D&trackingId=wGYy2n%2BE%2FugqIPCkqk3jNA%3D%3D&trk=flagship3_search_srp_jobs', '/jobs/view/4138138187/?eBP=CwEAAAGVDVLm9hKlZELiyouSMK05Hg0Q6Nwp_QUX-49085Z8nI22qL6PRxO9ZBBTJIv3RVl1CVxElpk-x1sPQQBJlgMm28PabAAL3Z83i_BprqksEr-5TDrQAI4P33vaeIZlgY1XAcfEM45DgQM37lmW9no6_PLc5EZ0PGpQNGa4aPtPECG9iv2jOKnXSk_J-RoCZ1ftYzaIT0jGUoGS39gTHfCcJxLrMKBm1OPHHufpGLfQNO_Gb0IIvTVAPpFmwp34XHM7AH0oFA7nFKkDHjkkoEP8tKCq3sBNkaVus35iCFKsz9jiaLnDX6Td_7jUm2I4Xfk0gMfIxNY4rs86SaBO0spBm3uQouJ8SK7-mSj3Ccb6-AtFLjMkHngkwbFaTcA2wQoJCfMnIch7AAE7eNRUHvE10X3hmgBAzZ9ZNq7WerYZLDGO3BwVlfBxiLvQ-MzWz22u2xZ266UDX9j7wPyh18_Cr1QWdyKXyE-i19zd_5S_ttj-ZSPB__IUHen_45tL8_vDh66gKkTdl1I-&refId=z0HSXyp%2FScCOXVUMD%2B9z2w%3D%3D&trackingId=n%2FQ%2FyvALQwlh21EXvY81Hg%3D%3D&trk=flagship3_search_srp_jobs']\n"
     ]
    }
   ],
   "source": [
    "# job_postings = soup.find_all('div', {'class': 'flex-grow-1 artdeco-entity-lockup__content ember-view'})\n",
    "# time.sleep(5)\n",
    "# print(len(job_postings))\n",
    "\n",
    "# # job_postings = soup.select('div.jobs-search__results-list li')\n",
    "# # time.sleep(5)\n",
    "# # print(f'Found {len(job_postings)} job postings')\n",
    "\n",
    "# for posting in job_postings:\n",
    "#     # print(posting)\n",
    "#     try:\n",
    "#         job_title = posting.find('a', {'class' :'job-card-container__link'}).get_text().split('\\n\\n\\n')\n",
    "#         job_title_n = job_title[0]\n",
    "#         job_names.append(job_title_n)\n",
    "#     except AttributeError:\n",
    "#         job_names.append('Job title not found')\n",
    "#     try:\n",
    "#         company_name = posting.find('div', {'class':'artdeco-entity-lockup__subtitle ember-view'}).get_text()\n",
    "#         company_name = company_name.replace('\\n\\n', '')\n",
    "#         company_names.append(company_name)\n",
    "#     except:\n",
    "#         company_names.append('Company Name not found')\n",
    "#     try:\n",
    "#         job_location = posting.find('div', {'class':'artdeco-entity-lockup__caption ember-view'}).get_text()\n",
    "#         job_location = job_location.replace('\\n\\n\\n\\n', '')\n",
    "#         job_location = job_location.replace('\\n\\n\\n \\n', '')\n",
    "#         job_locations.append(job_location)\n",
    "#     except:\n",
    "#         job_locations.append('Job location not found')\n",
    "#     try:\n",
    "#         job_url = posting.find('a', {'class' :'job-card-container__link'})['href']\n",
    "#         job_hyperlinks.append(job_url)\n",
    "#     except:\n",
    "#         job_hyperlinks.append('Job URL not found')\n",
    "# print(job_names, company_names, job_locations, job_hyperlinks)\n"
   ]
  },
  {
   "cell_type": "code",
   "execution_count": null,
   "metadata": {},
   "outputs": [],
   "source": [
    "# optimised scraping logic \n",
    "def extract_job_data(soup):\n",
    "    job_data = {\n",
    "        'titles': [],\n",
    "        'companies': [],\n",
    "        'locations': [],\n",
    "        'urls': []\n",
    "    }    \n",
    "\n",
    "    job_postings = soup.find_all('div', {'class': 'flex-grow-1 artdeco-entity-lockup__content ember-view'})\n",
    "    time.sleep(5)\n",
    "    print(f'Found {len(job_postings)} job postings')\n",
    "    \n",
    "    for posting in job_postings:\n",
    "        # Extract job title\n",
    "        try:\n",
    "            # Locate the <strong> tag inside the <a> tag \n",
    "            job_title = (posting.find('a', {'class': 'job-card-container__link'}).find('strong').get_text(strip=True))\n",
    "            job_data['titles'].append(job_title)\n",
    "        except AttributeError:\n",
    "            job_data['titles'].append('Job title not found')   \n",
    "\n",
    "        # Extract company name\n",
    "        try:\n",
    "            # Locate the <span> tag inside the <div> tag\n",
    "            company_element = (posting.find('div', {'class':'artdeco-entity-lockup__subtitle ember-view'}).find('span').get_text(strip=True))\n",
    "            job_data['companies'].append(company_element)\n",
    "        except:\n",
    "            job_data['companies'].append('Company name not found')\n",
    "            \n",
    "        # Extract location\n",
    "        try:\n",
    "            # Locate the <span> tag \n",
    "            location_text = (\n",
    "                posting.find('div', {'class': 'artdeco-entity-lockup__caption ember-view'}).find('ul', {'class': 'job-card-container__metadata-wrapper'})\n",
    "                .find('li').find('span').get_text(strip=True)\n",
    "            )\n",
    "            job_data['locations'].append(location_text)\n",
    "        except AttributeError:\n",
    "            job_data['locations'].append('Location not found')\n",
    "            \n",
    "        # Extract job URL\n",
    "        try:\n",
    "            job_url = posting.find('a', {'class' :'job-card-container__link'})['href']\n",
    "            job_data['urls'].append(job_url)\n",
    "        except:\n",
    "            job_data['urls'].append('Job URL not found')\n",
    "    \n",
    "    return job_data"
   ]
  },
  {
   "cell_type": "code",
   "execution_count": 58,
   "metadata": {},
   "outputs": [
    {
     "name": "stdout",
     "output_type": "stream",
     "text": [
      "Found 7 job postings\n",
      "Job Titles: ['Consultant, Information & Communication Technologies', 'AIML Consultant', 'Business Transformation Consultant-Data Analytics', 'Educational Consultant, Undergrad and MBA assistance', 'Consultant - SaT - CHS - SAT - EYP - STRATEGY - Mumbai', 'Data Consultant-Data Governance', 'Solutions Consultant']\n",
      "Companies: ['Frost & Sullivan', 'Virtusa', 'IBM', 'Seven Hats Consulting', 'EY', 'IBM', 'Adobe']\n",
      "Locations: ['Mumbai, Maharashtra, India (Remote)', 'Andhra Pradesh, India (Hybrid)', 'Pune, Maharashtra, India (Hybrid)', 'Mumbai, Maharashtra, India (On-site)', 'Mumbai, Maharashtra, India (On-site)', 'Pune, Maharashtra, India (Hybrid)', 'Mumbai, Maharashtra, India']\n",
      "URLs: ['/jobs/view/4133146576/?eBP=CwEAAAGVDVLm9gi18qKdere6e-kh0_PyRVuo4JVNO-S3rAqfHwH92CZA4nfN_gjpoAYov2QkVXPvA5OeFDCAn5NkVo28YHY8dwu2UNcaqMTCWyYkQh4i-VF9gcyyKVlogWedV89kzoFoxLMHNxAuQoWaFv0IGtOYSn0YnDWh7vPTktmuoT5MduN1-QOd71dFGmZpVgtXCLbrZJ8ctmuRs7uKtTWRi1k-Vxc8LywCNrlOdeIXEL3dGPmcX3eb1QJDz3BK3cC2h0HYnBUIsW9uT2-84904AKCUNpvNBDrbcsn2jHsHdGS-VUgUz4DihzsViO9PHsBkYNqQilFMHFiTM_cHA-IlSqzWU-xX6_3dHCILeShiJyw0tF9xZLREcFzfZnRTjFfWrMUKdvouRYVfukuayuXjgShUt1PVniviFLB3T-sJsTfjntC5LMmdikFabQfGJ4utHSz-0rLm1bXlYyZN40GCqASlgquvHVWWiPx0OVFUqFZnFwvHpqNS5BOpJsBYWryDvWqYklQ&refId=z0HSXyp%2FScCOXVUMD%2B9z2w%3D%3D&trackingId=D1S6JbBVU5LVDjYQvE8EJw%3D%3D&trk=flagship3_search_srp_jobs', '/jobs/view/4146770095/?eBP=CwEAAAGVDVLm9iWDUebFoSS0Y1rxSM6roAWYHxGIkG9YZ4_uRPlZTVGu2NB9fPg3J00CPUJwhCbCITH82IItyiX_iSsyuPF4QaRmGNI6HUix6NHjEGjK3qmAzFts3gtZJPLs2bTSFFP8B7qAU58WhKZikMQd9FHMcsLk91HgHtoE3pIOFxM8LO5_A2ILmv_qj7n0VfKcrhq5TPUXebhogvJvP5Rf9MYxgavHSvHgMsV84G6rl4O2S0uTAI_JtKpGkw4S6GJXny55f3VPVYtfv1zp_5_CHRa97aef15j5P_NPRy6ocAk7LHNggpuoiDJPqdUg5PEigSikfJ0SKmx5mOZTrtHrbWaOg4Hkh0DKbTB2n51VQgbpnYD0fNHeQzKYY_UfmUhE8IoYsWwWLoup4SGpgy4UYsnFFXoZ3Jd29_3yKr9M4GIVm3mzHV2fQGlvkgQt9cGPxityIKK3a5gqPTui6j-n3gnv2BnHQVxpvGDYfUV4aah5D6YqECZwzASGoe551x-6_XX_DZo&refId=z0HSXyp%2FScCOXVUMD%2B9z2w%3D%3D&trackingId=3QhH4KDmYV4sMwk9DqPezw%3D%3D&trk=flagship3_search_srp_jobs', '/jobs/view/4150637293/?eBP=CwEAAAGVDVLm9iNR0OaW5zudauKXOuN0ywlkst8Q7dEbYO74hmap6IhSwwjceEF_aqxp4EJRZ2Jq9wOUwFlM9Kp9s8nypMSNyEcUtQNowQ8U0Eyuw5wY2QU98ZEUFdAEcvsReZRZsNMHPWPwH9GOMJmZV1dnD6u7vc8dSvc2ySOAPSZpJsHyLIo7rCkFYmrLqusx7uvDnl0mSpCg1YZNfLrAOBl6NNLVum_rMszl_Fcloa-4DIM2pyOFMq2d2sa7X3EbnWf1D0ghOWSVYvuV_VOkoMW8ISIlPBqtcxP9bxUm_yn3ARuQarpJBbNK9IhpI8gsMjMuYOtC1QfcLHiPduHdGfBYt_Z1oBtiLmuVOiAxQtqXTBWdL539Cg6HS2YJHOyxMJd5ojSCLFDLkmzLrusomEqI5tT-kKjHiNRrzampfRIgp7dUhsB82jNDUSYo1TU7f-ahgQf-XKva6OuOXOtqQzYTTJRa7xa6bYadC41ALXPr7ZEAufJNeCP5S0Lq3cGZtI60abLl-RvHGKEJ1Lw&refId=z0HSXyp%2FScCOXVUMD%2B9z2w%3D%3D&trackingId=mQT0Zsd%2Fzgj3QuteYlwugA%3D%3D&trk=flagship3_search_srp_jobs', '/jobs/view/4129896458/?eBP=CwEAAAGVDVLm9iuEpFj3LI833KYaRDLeysYzOdwDzqzXkutUfZmND3maRhudfI8Jnrcjsk5yGAGvCxc43j_XV5AOynOOiJ5lyaWfwfQq_NpwYRk6AvtLjPJcRMZUfeazzXBtqA44P6SMBOZaek0mXH12FxwXBHICnpsasn1SVWn1MOFchIrQmydeu9jtCIuN_6SvAK-geTZ7YdANc_vuuHXn34gENU-QX6OfA1zZLjUVNEpzhvOeN6Tg6gwFnmy0BNeqZs2eoQej19IqnzoNH_8WDcsZM6fdukgdRf6i4mI9oJWJ00u3MzJfJG7qhSQX-SC3V_VyHmAfUoIaGfBa98tm_WxnsdCrDVdgBMCCBAeRr6ZuPhiUv9YyW3esyLaTDgJI4ydTNkGfPO4a86SBOfn03XgqPo9pjaZc1GQh3Qw9jBSpNEp_A6s5odXigQta7B_iWfAW3dwBwCOGhjvySjazx6r4ZMoYi6qMAD-xp8Mgk9-W4Y3d1ChtJ5Cv1TX57DsCDwM8EB0HrkaAVYEdP1zjJtqiWsmz1vwJugcYhQ&refId=z0HSXyp%2FScCOXVUMD%2B9z2w%3D%3D&trackingId=mSoh6N%2FZLXxT05rzPGKDZg%3D%3D&trk=flagship3_search_srp_jobs', '/jobs/view/4149726249/?eBP=CwEAAAGVDVLm9tBKJa16XKTro1gtxNJIArKmICf7oQJLnnr-LujvEGALQpQFSWYGdj65cpF5Idy_ryr95gjJbH-liftJXMPiXVUKW6JVHoA8n2VgPa0eSfBC7BDV1f7OOwS0qqnp8VitmgVPUhFdNrFhIiQWqGTqJUvCbocW4m5rCZ52W6yEPewDV223AKHXIWoCPBVRpcgHbHXuj8aY-KgwUt7hOQnwuG5sj6BJsTNBHj9KxunSjW1d8RUIs2ivii6AHncmfIq4WF8bCVCVJ5wdaK2ERmkt_uYL7Mp32UT_lLctm9jilMK_DR6x-EW3uel10YvsndaX8Qvy5R1Up-mFsDZ2JLy0hHVDAK7XbAVKgMvSq0bNvtHoqM4JXVhJwERS45tylsVRTryOIRewc15OvEsR64i1_26qLpIWeptq0_bp0W27yIUsrhTwW13tDiQqHVz3RiG7qQYMZWljq5OmTjtx3w4Vk2kk1SPWz8xE&refId=z0HSXyp%2FScCOXVUMD%2B9z2w%3D%3D&trackingId=jXKlMF3EBoF8axgGNMKZmw%3D%3D&trk=flagship3_search_srp_jobs', '/jobs/view/4150635496/?eBP=CwEAAAGVDVLm9tT9f4jamTlb7ZX6aNR8HZfiFbhunY9dYt9Sz4Xg71H2akSEo3XwgLbL0QL-hyV6UhEI95WE7yA1tTNrBWJ6O2Ari0oGofhHYBvefUViuAKnvHwaUilqJVp-pa2HI2rORiInpbzbUZD5RZWSYYJaNJROZaB-EY86oOU24F-SHVfF1k6LrkLC4r8i5EMAZZXPF0b2NCz9YNCZJUJrzM6BLkttS8rotWrK8QfpOgE3La1JQbi3vhQbLlKCba2kPpalUEJjCtrwIMvl8EOpUfmX1YRiDHjj2pTmNyBkRboM-H6HDn_DDztoFzLytsXqjzzDL9bxZiU_L3nIAr4fW3_IpbHDjNJsF_vresypWUdEtGuS6Y1dNz2Y54G_m3Qn3q2zgQwDjahbJySJl5DOPUWYdrEU3KWgINDvCr3mO6xe10JWdjPZoqqIh-1pKhe1aUgGSjGAYQngEIqMb4slgZUL4KPusQrDiiXQOyhQ2T-AzC3OadkeVKwtErZQxYcWCUEbZN_9gpFv1OI&refId=z0HSXyp%2FScCOXVUMD%2B9z2w%3D%3D&trackingId=wGYy2n%2BE%2FugqIPCkqk3jNA%3D%3D&trk=flagship3_search_srp_jobs', '/jobs/view/4138138187/?eBP=CwEAAAGVDVLm9hKlZELiyouSMK05Hg0Q6Nwp_QUX-49085Z8nI22qL6PRxO9ZBBTJIv3RVl1CVxElpk-x1sPQQBJlgMm28PabAAL3Z83i_BprqksEr-5TDrQAI4P33vaeIZlgY1XAcfEM45DgQM37lmW9no6_PLc5EZ0PGpQNGa4aPtPECG9iv2jOKnXSk_J-RoCZ1ftYzaIT0jGUoGS39gTHfCcJxLrMKBm1OPHHufpGLfQNO_Gb0IIvTVAPpFmwp34XHM7AH0oFA7nFKkDHjkkoEP8tKCq3sBNkaVus35iCFKsz9jiaLnDX6Td_7jUm2I4Xfk0gMfIxNY4rs86SaBO0spBm3uQouJ8SK7-mSj3Ccb6-AtFLjMkHngkwbFaTcA2wQoJCfMnIch7AAE7eNRUHvE10X3hmgBAzZ9ZNq7WerYZLDGO3BwVlfBxiLvQ-MzWz22u2xZ266UDX9j7wPyh18_Cr1QWdyKXyE-i19zd_5S_ttj-ZSPB__IUHen_45tL8_vDh66gKkTdl1I-&refId=z0HSXyp%2FScCOXVUMD%2B9z2w%3D%3D&trackingId=n%2FQ%2FyvALQwlh21EXvY81Hg%3D%3D&trk=flagship3_search_srp_jobs']\n"
     ]
    }
   ],
   "source": [
    "job_data = extract_job_data(soup)\n",
    "time.sleep(5)\n",
    "# print(job_data)\n",
    "print(\"Job Titles:\", job_data['titles'])\n",
    "print(\"Companies:\", job_data['companies'])\n",
    "print(\"Locations:\", job_data['locations'])\n",
    "print(\"URLs:\", job_data['urls'])"
   ]
  },
  {
   "cell_type": "code",
   "execution_count": null,
   "metadata": {},
   "outputs": [],
   "source": [
    "job_data = extract_job_data(soup)\n",
    "time.sleep(5)\n",
    "# print(job_data)\n",
    "print(\"Job Titles:\", job_data['titles'])\n",
    "print(\"Companies:\", job_data['companies'])\n",
    "print(\"Locations:\", job_data['locations'])\n",
    "print(\"URLs:\", job_data['urls'])"
   ]
  },
  {
   "cell_type": "code",
   "execution_count": 14,
   "metadata": {},
   "outputs": [
    {
     "name": "stdout",
     "output_type": "stream",
     "text": [
      "{'titles': ['Consultant, Information & Communication Technologies', 'AIML ConsultantAIML Consultant with verificationTechnologies', 'Business Transformation Consultant-Data AnalyticsBusiness Transformation Consultant-Data Analytics with verificationTechnologies', 'Educational Consultant, Undergrad and MBA assistanceEducational Consultant, Undergrad and MBA assistanceTechnologies', 'Consultant - SaT - CHS - SAT - EYP - STRATEGY - MumbaiConsultant - SaT - CHS - SAT - EYP - STRATEGY - Mumbai with verificationTechnologies', 'Data Consultant-Data GovernanceData Consultant-Data Governance with verificationTechnologies', 'Solutions ConsultantSolutions Consultant with verificationTechnologies'], 'companies': ['Company name not found', 'Company name not found', 'Company name not found', 'Company name not found', 'Company name not found', 'Company name not found', 'Company name not found'], 'locations': ['Location not found', 'Location not found', 'Location not found', 'Location not found', 'Location not found', 'Location not found', 'Location not found'], 'urls': ['URL not found', 'URL not found', 'URL not found', 'URL not found', 'URL not found', 'URL not found', 'URL not found']}\n"
     ]
    }
   ],
   "source": [
    "# Print the entire dictionary\n",
    "print(job_data)\n",
    "\n",
    "# # Print individual lists\n",
    "# print(\"Job Titles:\", job_data['titles'])\n",
    "# print(\"Companies:\", job_data['companies'])\n",
    "# print(\"Locations:\", job_data['locations'])\n",
    "# print(\"URLs:\", job_data['urls'])\n",
    "\n",
    "# # Or convert to DataFrame for better visualization\n",
    "# df = pd.DataFrame(job_data)\n",
    "# print(df)"
   ]
  },
  {
   "cell_type": "markdown",
   "metadata": {},
   "source": []
  },
  {
   "cell_type": "code",
   "execution_count": 15,
   "metadata": {},
   "outputs": [
    {
     "name": "stdout",
     "output_type": "stream",
     "text": [
      "7\n",
      "['\\nConsultant, Information & Communication TechnologiesConsultant, Information & Communication Technologies\\n', '\\nAIML Consultant ', '\\nBusiness Transformation Consultant-Data Analytics ', '\\nEducational Consultant, Undergrad and MBA assistanceEducational Consultant, Undergrad and MBA assistance\\n', '\\nConsultant - SaT - CHS - SAT - EYP - STRATEGY - Mumbai ', '\\nData Consultant-Data Governance ', '\\nSolutions Consultant ']\n",
      "['Frost & Sullivan', 'Virtusa', 'IBM', 'Seven Hats Consulting', 'EY', 'IBM', 'Adobe']\n"
     ]
    }
   ],
   "source": [
    "print(len(job_names))\n",
    "print(job_names)\n",
    "print(company_names)"
   ]
  },
  {
   "cell_type": "markdown",
   "metadata": {},
   "source": []
  },
  {
   "cell_type": "code",
   "execution_count": 16,
   "metadata": {},
   "outputs": [],
   "source": [
    "# for link in job_hyperlinks:\n",
    "#     print(link)"
   ]
  },
  {
   "cell_type": "code",
   "execution_count": 17,
   "metadata": {},
   "outputs": [],
   "source": [
    "query = 'Consultant'\n",
    "location = 'India'"
   ]
  },
  {
   "cell_type": "code",
   "execution_count": 18,
   "metadata": {},
   "outputs": [],
   "source": [
    "job_names = []\n",
    "company_names = []\n",
    "job_locations = []\n",
    "job_hyperlinks = []"
   ]
  },
  {
   "cell_type": "code",
   "execution_count": 19,
   "metadata": {},
   "outputs": [],
   "source": [
    "soup = BeautifulSoup(driver.page_source, 'html.parser')"
   ]
  },
  {
   "cell_type": "markdown",
   "metadata": {},
   "source": [
    "The BIG FOR LOOP"
   ]
  },
  {
   "cell_type": "code",
   "execution_count": 20,
   "metadata": {},
   "outputs": [
    {
     "name": "stdout",
     "output_type": "stream",
     "text": [
      "Processing Page 1.......\n"
     ]
    },
    {
     "ename": "StaleElementReferenceException",
     "evalue": "Message: stale element reference: stale element not found in the current frame\n  (Session info: chrome=133.0.6943.99); For documentation on this error, please visit: https://www.selenium.dev/documentation/webdriver/troubleshooting/errors#stale-element-reference-exception\nStacktrace:\n\tGetHandleVerifier [0x00007FF7924D6F15+28773]\n\t(No symbol) [0x00007FF792442600]\n\t(No symbol) [0x00007FF7922D8FAA]\n\t(No symbol) [0x00007FF7922E09B9]\n\t(No symbol) [0x00007FF7922E3AC1]\n\t(No symbol) [0x00007FF792380A52]\n\t(No symbol) [0x00007FF79235724A]\n\t(No symbol) [0x00007FF79237F6F3]\n\t(No symbol) [0x00007FF792357023]\n\t(No symbol) [0x00007FF79231FF5E]\n\t(No symbol) [0x00007FF7923211E3]\n\tGetHandleVerifier [0x00007FF79282425D+3490733]\n\tGetHandleVerifier [0x00007FF79283BA43+3586963]\n\tGetHandleVerifier [0x00007FF79283147D+3544525]\n\tGetHandleVerifier [0x00007FF79259C9DA+838442]\n\t(No symbol) [0x00007FF79244D04F]\n\t(No symbol) [0x00007FF792449614]\n\t(No symbol) [0x00007FF7924497B6]\n\t(No symbol) [0x00007FF792438CE9]\n\tBaseThreadInitThunk [0x00007FF8FC65259D+29]\n\tRtlUserThreadStart [0x00007FF8FD56AF38+40]\n",
     "output_type": "error",
     "traceback": [
      "\u001b[1;31m---------------------------------------------------------------------------\u001b[0m",
      "\u001b[1;31mStaleElementReferenceException\u001b[0m            Traceback (most recent call last)",
      "Cell \u001b[1;32mIn[20], line 11\u001b[0m\n\u001b[0;32m      9\u001b[0m \u001b[38;5;28;01mwhile\u001b[39;00m \u001b[38;5;28;01mTrue\u001b[39;00m:\n\u001b[0;32m     10\u001b[0m     time\u001b[38;5;241m.\u001b[39msleep(\u001b[38;5;241m10\u001b[39m)\n\u001b[1;32m---> 11\u001b[0m     driver\u001b[38;5;241m.\u001b[39mexecute_script(\u001b[38;5;124m\"\u001b[39m\u001b[38;5;124marguments[0].scrollTo(0, arguments[0].scrollHeight);\u001b[39m\u001b[38;5;124m\"\u001b[39m, job_list_container)\n\u001b[0;32m     12\u001b[0m     new_height \u001b[38;5;241m=\u001b[39m driver\u001b[38;5;241m.\u001b[39mexecute_script(\u001b[38;5;124m\"\u001b[39m\u001b[38;5;124mreturn arguments[0].scrollHeight\u001b[39m\u001b[38;5;124m\"\u001b[39m, job_list_container)\n\u001b[0;32m     13\u001b[0m     \u001b[38;5;28;01mif\u001b[39;00m new_height \u001b[38;5;241m==\u001b[39m last_height:\n",
      "File \u001b[1;32mc:\\Users\\khyat\\anaconda3\\Lib\\site-packages\\selenium\\webdriver\\remote\\webdriver.py:528\u001b[0m, in \u001b[0;36mWebDriver.execute_script\u001b[1;34m(self, script, *args)\u001b[0m\n\u001b[0;32m    525\u001b[0m converted_args \u001b[38;5;241m=\u001b[39m \u001b[38;5;28mlist\u001b[39m(args)\n\u001b[0;32m    526\u001b[0m command \u001b[38;5;241m=\u001b[39m Command\u001b[38;5;241m.\u001b[39mW3C_EXECUTE_SCRIPT\n\u001b[1;32m--> 528\u001b[0m \u001b[38;5;28;01mreturn\u001b[39;00m \u001b[38;5;28mself\u001b[39m\u001b[38;5;241m.\u001b[39mexecute(command, {\u001b[38;5;124m\"\u001b[39m\u001b[38;5;124mscript\u001b[39m\u001b[38;5;124m\"\u001b[39m: script, \u001b[38;5;124m\"\u001b[39m\u001b[38;5;124margs\u001b[39m\u001b[38;5;124m\"\u001b[39m: converted_args})[\u001b[38;5;124m\"\u001b[39m\u001b[38;5;124mvalue\u001b[39m\u001b[38;5;124m\"\u001b[39m]\n",
      "File \u001b[1;32mc:\\Users\\khyat\\anaconda3\\Lib\\site-packages\\selenium\\webdriver\\remote\\webdriver.py:429\u001b[0m, in \u001b[0;36mWebDriver.execute\u001b[1;34m(self, driver_command, params)\u001b[0m\n\u001b[0;32m    427\u001b[0m response \u001b[38;5;241m=\u001b[39m \u001b[38;5;28mself\u001b[39m\u001b[38;5;241m.\u001b[39mcommand_executor\u001b[38;5;241m.\u001b[39mexecute(driver_command, params)\n\u001b[0;32m    428\u001b[0m \u001b[38;5;28;01mif\u001b[39;00m response:\n\u001b[1;32m--> 429\u001b[0m     \u001b[38;5;28mself\u001b[39m\u001b[38;5;241m.\u001b[39merror_handler\u001b[38;5;241m.\u001b[39mcheck_response(response)\n\u001b[0;32m    430\u001b[0m     response[\u001b[38;5;124m\"\u001b[39m\u001b[38;5;124mvalue\u001b[39m\u001b[38;5;124m\"\u001b[39m] \u001b[38;5;241m=\u001b[39m \u001b[38;5;28mself\u001b[39m\u001b[38;5;241m.\u001b[39m_unwrap_value(response\u001b[38;5;241m.\u001b[39mget(\u001b[38;5;124m\"\u001b[39m\u001b[38;5;124mvalue\u001b[39m\u001b[38;5;124m\"\u001b[39m, \u001b[38;5;28;01mNone\u001b[39;00m))\n\u001b[0;32m    431\u001b[0m     \u001b[38;5;28;01mreturn\u001b[39;00m response\n",
      "File \u001b[1;32mc:\\Users\\khyat\\anaconda3\\Lib\\site-packages\\selenium\\webdriver\\remote\\errorhandler.py:232\u001b[0m, in \u001b[0;36mErrorHandler.check_response\u001b[1;34m(self, response)\u001b[0m\n\u001b[0;32m    230\u001b[0m         alert_text \u001b[38;5;241m=\u001b[39m value[\u001b[38;5;124m\"\u001b[39m\u001b[38;5;124malert\u001b[39m\u001b[38;5;124m\"\u001b[39m]\u001b[38;5;241m.\u001b[39mget(\u001b[38;5;124m\"\u001b[39m\u001b[38;5;124mtext\u001b[39m\u001b[38;5;124m\"\u001b[39m)\n\u001b[0;32m    231\u001b[0m     \u001b[38;5;28;01mraise\u001b[39;00m exception_class(message, screen, stacktrace, alert_text)  \u001b[38;5;66;03m# type: ignore[call-arg]  # mypy is not smart enough here\u001b[39;00m\n\u001b[1;32m--> 232\u001b[0m \u001b[38;5;28;01mraise\u001b[39;00m exception_class(message, screen, stacktrace)\n",
      "\u001b[1;31mStaleElementReferenceException\u001b[0m: Message: stale element reference: stale element not found in the current frame\n  (Session info: chrome=133.0.6943.99); For documentation on this error, please visit: https://www.selenium.dev/documentation/webdriver/troubleshooting/errors#stale-element-reference-exception\nStacktrace:\n\tGetHandleVerifier [0x00007FF7924D6F15+28773]\n\t(No symbol) [0x00007FF792442600]\n\t(No symbol) [0x00007FF7922D8FAA]\n\t(No symbol) [0x00007FF7922E09B9]\n\t(No symbol) [0x00007FF7922E3AC1]\n\t(No symbol) [0x00007FF792380A52]\n\t(No symbol) [0x00007FF79235724A]\n\t(No symbol) [0x00007FF79237F6F3]\n\t(No symbol) [0x00007FF792357023]\n\t(No symbol) [0x00007FF79231FF5E]\n\t(No symbol) [0x00007FF7923211E3]\n\tGetHandleVerifier [0x00007FF79282425D+3490733]\n\tGetHandleVerifier [0x00007FF79283BA43+3586963]\n\tGetHandleVerifier [0x00007FF79283147D+3544525]\n\tGetHandleVerifier [0x00007FF79259C9DA+838442]\n\t(No symbol) [0x00007FF79244D04F]\n\t(No symbol) [0x00007FF792449614]\n\t(No symbol) [0x00007FF7924497B6]\n\t(No symbol) [0x00007FF792438CE9]\n\tBaseThreadInitThunk [0x00007FF8FC65259D+29]\n\tRtlUserThreadStart [0x00007FF8FD56AF38+40]\n"
     ]
    }
   ],
   "source": [
    "for page_num in range(1, 11):\n",
    "    print(f'Processing Page {page_num}.......')\n",
    "    jobs_url = f'https://www.linkedin.com/jobs/search/?keywords={query}&location={location}&start={25*(page_num-1)}'\n",
    "    driver.get(jobs_url)\n",
    "    \n",
    "    job_list_container = driver.find_element(By.XPATH, \"//a[contains(@class, 'job-card-list__title--link')]/span[@aria-hidden='true']\")\n",
    "    # print(job_list_container.text)\n",
    "    last_height = driver.execute_script(\"return arguments[0].scrollHeight\", job_list_container)\n",
    "    while True:\n",
    "        time.sleep(10)\n",
    "        driver.execute_script(\"arguments[0].scrollTo(0, arguments[0].scrollHeight);\", job_list_container)\n",
    "        new_height = driver.execute_script(\"return arguments[0].scrollHeight\", job_list_container)\n",
    "        if new_height == last_height:\n",
    "            break\n",
    "        last_height = new_height\n",
    "    # time.sleep(10)\n",
    "\n",
    "    job_postings = soup.find_all('div', {'class': 'flex-grow-1 artdeco-entity-lockup__content ember-view'})\n",
    "    time.sleep(15)\n",
    "    print(f'No. of job postings found = {len(job_postings)}')\n",
    "\n",
    "    for posting in job_postings:\n",
    "    # print(posting)\n",
    "        try:\n",
    "            job_title = posting.find('a', {'class' :'job-card-container__link'}).get_text().split('\\n\\n\\n')\n",
    "            job_title_n = job_title[0]\n",
    "            job_title_n = job_title_n.replace('\\n', '')\n",
    "            job_names.append(job_title_n)\n",
    "        except AttributeError:\n",
    "            job_names.append('Job title not found')\n",
    "        try:\n",
    "            company_name = posting.find('div', {'class':'artdeco-entity-lockup__subtitle ember-view'}).get_text()\n",
    "            company_name = company_name.replace('\\n\\n', '')\n",
    "            company_names.append(company_name)\n",
    "        except:\n",
    "            company_names.append('Company Name not found')\n",
    "        try:\n",
    "            job_location = posting.find('div', {'class':'artdeco-entity-lockup__caption ember-view'}).get_text()\n",
    "            job_location = job_location.replace('\\n\\n\\n\\n', '')\n",
    "            job_location = job_location.replace('\\n\\n\\n \\n', '')\n",
    "            job_locations.append(job_location)\n",
    "        except:\n",
    "            job_locations.append('Job location not found')\n",
    "        try:\n",
    "            job_url = posting.find('a', {'class' :'job-card-container__link'})['href']\n",
    "            job_hyperlinks.append(job_url)\n",
    "        except:\n",
    "            job_hyperlinks.append('Job URL not found')\n",
    "    print(f'Page number {page_num} done!!')\n",
    "        "
   ]
  },
  {
   "cell_type": "code",
   "execution_count": null,
   "metadata": {},
   "outputs": [
    {
     "name": "stdout",
     "output_type": "stream",
     "text": [
      "99\n",
      "99\n",
      "99\n",
      "99\n"
     ]
    }
   ],
   "source": [
    "print(len(job_names))\n",
    "print(len(company_names))\n",
    "print(len(job_locations))\n",
    "print(len(job_hyperlinks))"
   ]
  },
  {
   "cell_type": "code",
   "execution_count": null,
   "metadata": {},
   "outputs": [
    {
     "name": "stdout",
     "output_type": "stream",
     "text": [
      "['Artificial Intelligence Consultant ', 'Gen AI Consultant ', 'Consultant ', 'AI-ML Tech ConsultantAI-ML Tech Consultant', 'Strategy Consultant: Enterprise Strategy ', 'Senior Consultant - Tech Consulting - FS - CNS - TC - Technology Strategy & Transformation - Mumbai ', 'Oracle EPM Consultant ', 'Technology Consulting Principal Consultant ', 'Technology Architect ', 'Gen AI Consultant ', 'Gen AI Consultant ', 'Strategy Consultant: Enterprise Strategy ', 'Strategy & Transformation Consultant - C ', 'SAP Plant Maintenance Consultant ', 'Consultant Specialist ', 'GN-Strategy-Sustainability Strategy- Consultant ', 'Associate Consultant - Assurance - CHS - ASU - TR - Technology Risk - Gurgaon ', 'S&C Global Network - AI - Conversational AI - Consultant ', 'Artificial Intelligence ConsultantArtificial Intelligence Consultant', 'JD Edwards Technical Consultant ', 'Consultant- Data Scientist-HMS051399 ', 'Engineer III Consultant-AI Science ', 'Lead Consultant ', 'Business Architect ', 'Associate Consultant ', 'Data Strategy ConsultantData Strategy Consultant', 'AWS ConsultantAWS Consultant', 'EY - GDS Consulting - AI and DATA - AWS - Staff ', 'Managing Consultant - Analytics ', 'SAP SuccessFactors consultant ', 'Senior Principal Consultant-Full Stack Architect-HMS047756 ', 'Machine Learning & Data Engineer - Consultant ', 'Consultant, Advisors & Consulting Services, Strategy & Transformation-R-234723 ', 'IFS Technical Consultant ', 'Consultant-Biz Consulting ', 'Oracle OTM Cloud Sr Functional Consultant ', 'Principal Consultant ', 'Lead Consultant – Python Backend Developer-ITO086111 ', 'EY-GDS Consulting-AI and DATA-DG-Senior ', 'Infor WFM Consultant ', 'Principal Consultant ', 'Java Developer - Digital Solution Consultant Sr. Analyst ', 'ConsultantConsultant', 'Consultant ', 'Workday Consultant ', 'C++ - Senior Consultant ', 'S&C Global Network - AI - Conversational AI - Consultant ', 'Data & Analytics Principal Consultant ', 'Consultant ', 'Oracle SCM Principal Consultant ', 'Business Consulting - Supply Chain and Operations - Procurement - Senior Consultant ', 'Consultant - Forensics - National - ASU - Forensics - Investigations & Compliance - Mumbai ', 'Principal Consultant ', 'Senior Java Consultant ', 'SAP FICO Consultant ', 'SAP UI5 FIORI CONSULTANT ', 'SAP Consultant ', 'Principal Consultant - Data Architect ', 'Python ConsultantPython Consultant', 'Risk Consulting-Protect Tech-Senior-Azure ', 'Senior Engineer Consultant-AI Science ', 'Consultant - Business Consulting Risk - NAT - CNS - Risk - Process & Controls - Gurgaon/Mumbai ', 'Principal Consultant ', 'Lead Consultant - OTM ', 'Lead Consultant, TM1 Developer-ITO085544 ', 'Senior High Performance Computing(HPC) ArchitectSenior High Performance Computing(HPC) Architect', 'Full Stack Senior Consultant, Software Engineer, Generative AI ', 'Oracle SCM Lead Consultant ', 'Senior Principal Consultant, Generative AI Full Stack Architect-HMS050286 ', 'Salesforce Vlocity Consultant ', 'Risk Consulting-Protect Tech-Senior-Azure ', 'Principal Consultant – Pyspark/Python Data Engineer-HMS051579 ', 'Consultant - Business Consulting Risk - TMT - CNS - Risk - Digital Risk - Bangalore ', 'Principal Consultant ', 'Consultant - Business Consulting Risk - AMI - CNS - Risk - Process & Controls - Mumbai ', 'Lead Consultant ', 'Cyber Strategy - Solution Advisor ', 'Associate Consultant - Integration and Seperation ', 'Associate Lead Consultant - SAP S4 FICO Job ', 'Brand ConsultantBrand Consultant', 'Oracle WMS Cloud Sr Functional Consultant ', 'Big Data Consultant ', 'Lead Data Science Consultant ', 'Oracle Technical Consultant ', 'Senior High Performance Computing(HPC) ArchitectSenior High Performance Computing(HPC) Architect', 'SAP ConsultantSAP Consultant', 'Oracle Hyperion Consultant ', 'Principal Consultant, Business & Financial ServicesPrincipal Consultant, Business & Financial Services', 'AWS ConsultantAWS Consultant', 'Technical Solutions Consultant, University Graduate, 2025 ', 'Technical Solutions Consultant, University Graduate, 2025 ', 'Senior Principal Consultant- Virtual Endpoint Engineer-ITO085695 ', 'Lead Consultant, Full stack Engineer-HMS054814 ', 'Senior High Performance Computing(HPC) ArchitectSenior High Performance Computing(HPC) Architect', 'Oracle Retail Functional Consultant ', 'Consultant - Business Consulting Risk - TMT - CNS - Risk - Digital Risk - Bangalore ']\n"
     ]
    }
   ],
   "source": [
    "print(job_names)"
   ]
  },
  {
   "cell_type": "code",
   "execution_count": null,
   "metadata": {},
   "outputs": [
    {
     "name": "stdout",
     "output_type": "stream",
     "text": [
      "1\n"
     ]
    }
   ],
   "source": [
    "# scroll_height = 0\n",
    "# while True:\n",
    "#     prev_scroll_height = scroll_height\n",
    "#     scroll_height = driver.execute_script('return document.body.scrollHeight')\n",
    "#     driver.execute_script(f'window.scrollTo(0, {scroll_height})')\n",
    "#     time.sleep(2)\n",
    "#     if scroll_height == prev_scroll_height:\n",
    "#         break\n",
    "# job_listings = driver.find_elements(By.CLASS_NAME, 'scaffold-layout__list' )\n",
    "# print(len(job_listings))  \n",
    "# for listing in job_listings:\n",
    "#     job_title_element = listing.find_elements(By.XPATH, \".//a[contains(@class, 'job-card-list__title--link')]/span[@aria-hidden='true']\")\n",
    "#     for job in job_title_element:\n",
    "#         job_title = job.text\n",
    "#         job_names.append(job_title)\n",
    "#     # print('Job title :', job_title)\n",
    "#     company_name_element = listing.find_elements(By.CLASS_NAME, 'artdeco-entity-lockup__subtitle')\n",
    "#     for company in company_name_element:\n",
    "#         company_name = company.text\n",
    "#         company_names.append(company_name)\n",
    "#     job_location_element = listing.find_elements(By.CLASS_NAME, 'artdeco-entity-lockup__caption')\n",
    "#     for job_loc in job_location_element:\n",
    "#         job_location = job_loc.text\n",
    "#         job_locations.append(job_location)\n",
    "#     link_element = listing.find_elements(By.TAG_NAME, 'a')\n",
    "#     for href in link_element:\n",
    "#         link = href.get_attribute('href')\n",
    "#         if link!=None:\n",
    "#             job_hyperlinks.append(link)\n",
    "#         else:\n",
    "#             print(f'Hyperlink for the company {company_name} and job profile {job_title} not found :(')\n"
   ]
  },
  {
   "cell_type": "code",
   "execution_count": null,
   "metadata": {},
   "outputs": [
    {
     "name": "stdout",
     "output_type": "stream",
     "text": [
      "7\n",
      "7\n",
      "7\n",
      "7\n"
     ]
    }
   ],
   "source": [
    "# print(len(job_names))\n",
    "# print(len(company_names))\n",
    "# print(len(job_hyperlinks))\n",
    "# print(len(job_locations))"
   ]
  },
  {
   "cell_type": "code",
   "execution_count": null,
   "metadata": {},
   "outputs": [],
   "source": [
    "dict = {\n",
    "    'Job Name' : job_names,\n",
    "    'Company Name' : company_names,\n",
    "    'Location' : job_locations,\n",
    "    'Hyperlink' : job_hyperlinks\n",
    "}"
   ]
  },
  {
   "cell_type": "code",
   "execution_count": null,
   "metadata": {},
   "outputs": [],
   "source": []
  },
  {
   "cell_type": "code",
   "execution_count": null,
   "metadata": {},
   "outputs": [],
   "source": [
    "df = pd.DataFrame(dict)"
   ]
  },
  {
   "cell_type": "code",
   "execution_count": null,
   "metadata": {},
   "outputs": [
    {
     "name": "stdout",
     "output_type": "stream",
     "text": [
      "                                             Job Name  \\\n",
      "0   Full Stack Senior Consultant, Software Enginee...   \n",
      "1                                  Gen AI Consultant    \n",
      "2                                         Consultant    \n",
      "3                 Artificial Intelligence Consultant    \n",
      "4          AI-ML Tech ConsultantAI-ML Tech Consultant   \n",
      "..                                                ...   \n",
      "94                     Principal Consultant - Siebel    \n",
      "95                        Kinaxis Maestro Consultant    \n",
      "96                           Associate Consultant II    \n",
      "97                     Business Execution Consultant    \n",
      "98               Sap Materials Management Consultant    \n",
      "\n",
      "                 Company Name                                    Location  \\\n",
      "0                        Visa            Bengaluru East, Karnataka, India   \n",
      "1                       Wipro          Pune, Maharashtra, India (On-site)   \n",
      "2                    Deloitte            Greater Bengaluru Area (On-site)   \n",
      "3                    Deloitte        Bhubaneswar, Odisha, India (On-site)   \n",
      "4                     Infosys  Bengaluru East, Karnataka, India (On-site)   \n",
      "..                        ...                                         ...   \n",
      "94                     Oracle          Pune, Maharashtra, India (On-site)   \n",
      "95             Insight Global          Pune, Maharashtra, India (On-site)   \n",
      "96                 HighRadius       Hyderabad, Telangana, India (On-site)   \n",
      "97                Wells Fargo       Hyderabad, Telangana, India (On-site)   \n",
      "98  Tata Consultancy Services       Bengaluru, Karnataka, India (On-site)   \n",
      "\n",
      "                                            Hyperlink  \n",
      "0   /jobs/view/4085650383/?eBP=CwEAAAGTuy1MV9b8krS...  \n",
      "1   /jobs/view/3927395509/?eBP=CwEAAAGTuy1MV44HNC6...  \n",
      "2   /jobs/view/4077190762/?eBP=CwEAAAGTuy1MVyb575g...  \n",
      "3   /jobs/view/3999083005/?eBP=CwEAAAGTuy1MV0-vCTb...  \n",
      "4   /jobs/view/4082606368/?eBP=BUDGET_EXHAUSTED_JO...  \n",
      "..                                                ...  \n",
      "94  /jobs/view/4026218916/?eBP=CwEAAAGTuzFLLzMX4sE...  \n",
      "95  /jobs/view/4096193608/?eBP=CwEAAAGTuzFLLzoLZsD...  \n",
      "96  /jobs/view/4094858745/?eBP=CwEAAAGTuzFLLyuRif_...  \n",
      "97  /jobs/view/4091851666/?eBP=CwEAAAGTuzFLL7tquCG...  \n",
      "98  /jobs/view/4086224131/?eBP=CwEAAAGTuzFLL-pCPqI...  \n",
      "\n",
      "[99 rows x 4 columns]\n"
     ]
    }
   ],
   "source": [
    "print(df)"
   ]
  },
  {
   "cell_type": "code",
   "execution_count": null,
   "metadata": {},
   "outputs": [],
   "source": [
    "job_data_xl = df.to_csv('C:/Users/adity/Documents/scraping project/job_data_file.csv')"
   ]
  },
  {
   "cell_type": "markdown",
   "metadata": {},
   "source": [
    "jobs-search__results-list - this class is for the list of all jobs\n",
    "span class - sr-only - this is for the job title\n"
   ]
  },
  {
   "cell_type": "code",
   "execution_count": null,
   "metadata": {},
   "outputs": [],
   "source": [
    "test_url = job_hyperlinks[0]\n",
    "driver.get(test_url)\n",
    "\n",
    "description_block = driver.find_elements(By.CLASS_NAME, 'description__job-criteria-list')\n",
    "for block in description_block:\n",
    "    print(block.text)"
   ]
  },
  {
   "cell_type": "code",
   "execution_count": null,
   "metadata": {},
   "outputs": [
    {
     "ename": "NameError",
     "evalue": "name 'driver' is not defined",
     "output_type": "error",
     "traceback": [
      "\u001b[1;31m---------------------------------------------------------------------------\u001b[0m",
      "\u001b[1;31mNameError\u001b[0m                                 Traceback (most recent call last)",
      "Cell \u001b[1;32mIn[1], line 1\u001b[0m\n\u001b[1;32m----> 1\u001b[0m \u001b[43mdriver\u001b[49m\u001b[38;5;241m.\u001b[39mquit()\n",
      "\u001b[1;31mNameError\u001b[0m: name 'driver' is not defined"
     ]
    }
   ],
   "source": [
    "driver.quit()"
   ]
  },
  {
   "cell_type": "code",
   "execution_count": null,
   "metadata": {},
   "outputs": [],
   "source": []
  },
  {
   "cell_type": "code",
   "execution_count": null,
   "metadata": {},
   "outputs": [],
   "source": []
  }
 ],
 "metadata": {
  "kernelspec": {
   "display_name": "base",
   "language": "python",
   "name": "python3"
  },
  "language_info": {
   "codemirror_mode": {
    "name": "ipython",
    "version": 3
   },
   "file_extension": ".py",
   "mimetype": "text/x-python",
   "name": "python",
   "nbconvert_exporter": "python",
   "pygments_lexer": "ipython3",
   "version": "3.11.7"
  }
 },
 "nbformat": 4,
 "nbformat_minor": 2
}
